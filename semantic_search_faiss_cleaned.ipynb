{
 "cells": [
  {
   "cell_type": "code",
   "execution_count": 1,
   "metadata": {
    "colab": {
     "base_uri": "https://localhost:8080/",
     "height": 771,
     "referenced_widgets": [
      "5b44957842aa4ab4a28d448241eab4b6",
      "e1f9063e1a5d4fd2841d594daccaa19c",
      "2509916904f741c580db1bf306cec0e1",
      "429a7a44a3b34ad88d9778e5f5b42f2f",
      "2c7a6abc2bc74a43969f7ff8ef1edf95",
      "77cfc3dda1ab438ebf230b3e24703f95",
      "38db4a6c835f42f3a4cf1ca3e016c213",
      "c662ea27f47f43bab0c1baa812e7c1ba",
      "05347f09dae1481fad3c266679c47ed0",
      "c1fe4abd8aa14a0fbd4b59affdde281f",
      "00ae1767582844ce8cb5dec61a74e68a",
      "71de47c208a3465399a126b63617a14f",
      "15dc106a810c41d396eb673f09b13bce",
      "86717060af164cadbd24ab4155852b03",
      "67d3151c6d4945beb2b9a947fb4e7004",
      "cefb2cbc263145f4a0c356d887414be0",
      "a4da5fd588984baa97776a569a6513da",
      "3abca3240f294d02a48366ed9c50342c",
      "6e921a5294204bd49c6d5d8e9eccb905",
      "b70c8f6ee8d042039c6601a0c13787b3",
      "ecaa3e53f39f400896f8e41f892fbcdc",
      "8c78189ae9254a90b79152d3dd6fab8b",
      "657fe279f8084899bc70684ba080f249",
      "57e5b01e95e047b3bcd5da51f2a0e0ef",
      "8ad54b84870740e7bd2d7eb910412499",
      "59ea0a166b7b49949f783933e1e57b12",
      "26231f543c2144e68a9884ee80f489ee",
      "d6b49f8e054b433dad4e0d1fa7d11da8",
      "d66f42386b1d4ccfac682fdcf5233ffc",
      "d9dc326bfbb74420a189f3e6b8b45973",
      "c4984de8b0ae4e46971d30fe431408cc",
      "33dcf1a513f84132a5845666f6b0e7a3",
      "8f15aee7606c447d8b0b2dccbd7571a0",
      "dca734a82dfe46719b9eb6b8410c4f3d",
      "9f572c1b6bef4da0a5f659ced39fb743",
      "c98215710d7a4d4d8a6554d7147dc396",
      "06ed3a3e5dfb4dd995320a6c4b50423d",
      "22cf8d2c066148659d980d657b80968a",
      "89b266a237a74af59fc32bf14764a5e5",
      "971acafd10b542118e40f1e3fddeb4f3",
      "0b2ec089449f409ebd12d1569b009c44",
      "cac7f3cf9f2c48ad94ddfacfbea9f5d2",
      "dbb7eeba9d4448b790d521afffed4f67",
      "b2a4ea63acfb497e92d4000f8ed458b1",
      "5014e071c0a04f8586d21f917553367a",
      "e8fa85a953e44afb8e8fce2865937c70",
      "37e7ec78ea4b4d7dacaa70aa3203cfef",
      "1f7cd1104a56464db2c4f6a2ba01e2d9",
      "037c71bd5fcb4dad889c38a11292d19b",
      "38580f3df0934900835a4c50a73246f7",
      "7ea6cba9956244fb89777c8a5f4ce2b1",
      "235feb89a55f47f18a198e689c19acf1",
      "d42124501f34489b8814426134a092c4",
      "961b5f03e50b4b8a99a4045d11292989",
      "f14c28da78b04135b15691165cafb3cd",
      "4706b9f413bb413088fa9c914036e455",
      "389bd3056d794782b5b0464e60d0362e",
      "6976f9b040cd472fa8a3ed21c9cbad1a",
      "aed27dfd9d4e40478af656a7774218d1",
      "671ffb7a07b145268094c4ff03b2dac9",
      "0c6d73d216ba4b7a9c44a47b0363c737",
      "9b9200f3b5504757aa000cf1e1b8b069",
      "89c0661b0db54ff18c469ba11ad4e101",
      "3a56f802b3684b40b297341a946a409c",
      "06140f956a694ad9a9f4cfde805eb2f0",
      "1a7a76a9f34a43d7b75af73e16af2688",
      "2b0be29aee2d4372a50045fdc07604d5",
      "616cb89a10bd401a89f038c3aef7aa6d",
      "3f22ad16116341b5bc68003e5d98165a",
      "e918352d64d444b19ae5a920ed34dd7f",
      "095bbb57003d41a692f3f761f5404ccf",
      "c6df02bab54d4f998587861d3b391893",
      "9dc1ad564fe1497a8cf0ba702f8a0de3",
      "6a348ac10a3f48f096814f0ee6106f52",
      "14c1e68182234cfe89f2d1221b6dba8c",
      "53c6cb760adb4f8fbeb4cdb2f70371c3",
      "8b2fb9bedb994e1e970e791eea7ffdf5",
      "16f2fbe2fbb44585ba5a8b1e5f22b84f",
      "2fc6340ed5964d9f8f009ef323b91dfb",
      "7b016c86f0134cfab1ed2e2ff6ec7f73",
      "f125701b03364cdf87f6b89909c326c7",
      "9e5454da782243c9ba8ee07b99d9dca9",
      "936659d3580646ba9d44c292fc500ecc",
      "6a74418c1b1f4104a34360e2d5d943d5",
      "4149815533dd4476a8f45624a78bffe0",
      "0a59ac245d1746948bb62994098e21a4",
      "40d2d266d1f94d5fb0612066c29c5d81",
      "d9110821735645489808f1efa678215c",
      "19f0f4e74a204f1b8a0650d6cd84b4d2",
      "576fc74582f84399966146063f5b0e6a",
      "2dd37c2be8b54ff6a15a673176619ddf",
      "a6589cdd681f444fa2da5ddcb7f9dde6",
      "2892283cb0b84368ac51f78fbdb35287",
      "b9a722e62f584e27bca5ea0dd79908eb",
      "d796e5bd24f3467b9a5e67fd1d1d9a22",
      "f47304a98d7e4598b1d5ca4019ce55ac",
      "92080774122c4dba95684742b15e8159",
      "a9ebd90e27584e368d5fd5cc0b6f1265",
      "16d26c5f55304ac0aa20a607033001ce",
      "7ec5416ec96d496d86e0b2e67a46f7b9",
      "f5600296e5bb49868b8ba67d819bf7b4",
      "65c54269ff344eeea935439af278ea84",
      "d9f0388db14f41f680e4e887c0eeb449",
      "3ebacfbfb946405da210e7bfa56cffc3",
      "ab34e1a789f44e09b571600b0a4e81b0",
      "066afaf0416942a1bd72a9f223dee02d",
      "a290a8905dc14781b83d0de055bd3b89",
      "cbee9f3628aa444688fdd2cb6f874a57",
      "06ee81cfece540f1be106453212a4bc2",
      "83474452d4c34a8c9a73723d1d5deb1a",
      "70103eec1d2243baaea7686706920875",
      "18ec929121324bcb92e4f459819f9577",
      "3409d6aabb9d45a992044aa725b4c270",
      "61960f03b873439d9f70cddf567bee48",
      "832000a6c5f74b0bbfe1d1242af037de",
      "b4e92cd15c184b3dbcd426f3ed7ca019",
      "c56ef7c69cb4472db52ca16c8a7eee3e",
      "156b5ffd96d548ab8269008b05fe2ca2",
      "593c473921f84d018a2cb019fe41d51d",
      "80dc859e8b204d0e935f41ae27644f64",
      "82b2dc8b586c4c86aada5cd748212837"
     ]
    },
    "executionInfo": {
     "elapsed": 152346,
     "status": "ok",
     "timestamp": 1750994608917,
     "user": {
      "displayName": "Maheswar S",
      "userId": "04258822098676278084"
     },
     "user_tz": 240
    },
    "id": "J6JWYmSqZeaE",
    "outputId": "bb7078aa-677e-45ef-dd47-cb3f19302b6a"
   },
   "outputs": [
    {
     "name": "stdout",
     "output_type": "stream",
     "text": [
      "\u001b[2K   \u001b[90m━━━━━━━━━━━━━━━━━━━━━━━━━━━━━━━━━━━━━━━━\u001b[0m \u001b[32m31.3/31.3 MB\u001b[0m \u001b[31m19.4 MB/s\u001b[0m eta \u001b[36m0:00:00\u001b[0m\n",
      "\u001b[2K   \u001b[90m━━━━━━━━━━━━━━━━━━━━━━━━━━━━━━━━━━━━━━━━\u001b[0m \u001b[32m363.4/363.4 MB\u001b[0m \u001b[31m4.3 MB/s\u001b[0m eta \u001b[36m0:00:00\u001b[0m\n",
      "\u001b[2K   \u001b[90m━━━━━━━━━━━━━━━━━━━━━━━━━━━━━━━━━━━━━━━━\u001b[0m \u001b[32m13.8/13.8 MB\u001b[0m \u001b[31m95.6 MB/s\u001b[0m eta \u001b[36m0:00:00\u001b[0m\n",
      "\u001b[2K   \u001b[90m━━━━━━━━━━━━━━━━━━━━━━━━━━━━━━━━━━━━━━━━\u001b[0m \u001b[32m24.6/24.6 MB\u001b[0m \u001b[31m80.0 MB/s\u001b[0m eta \u001b[36m0:00:00\u001b[0m\n",
      "\u001b[2K   \u001b[90m━━━━━━━━━━━━━━━━━━━━━━━━━━━━━━━━━━━━━━━━\u001b[0m \u001b[32m883.7/883.7 kB\u001b[0m \u001b[31m44.1 MB/s\u001b[0m eta \u001b[36m0:00:00\u001b[0m\n",
      "\u001b[2K   \u001b[90m━━━━━━━━━━━━━━━━━━━━━━━━━━━━━━━━━━━━━━━━\u001b[0m \u001b[32m664.8/664.8 MB\u001b[0m \u001b[31m2.2 MB/s\u001b[0m eta \u001b[36m0:00:00\u001b[0m\n",
      "\u001b[2K   \u001b[90m━━━━━━━━━━━━━━━━━━━━━━━━━━━━━━━━━━━━━━━━\u001b[0m \u001b[32m211.5/211.5 MB\u001b[0m \u001b[31m5.9 MB/s\u001b[0m eta \u001b[36m0:00:00\u001b[0m\n",
      "\u001b[2K   \u001b[90m━━━━━━━━━━━━━━━━━━━━━━━━━━━━━━━━━━━━━━━━\u001b[0m \u001b[32m56.3/56.3 MB\u001b[0m \u001b[31m15.9 MB/s\u001b[0m eta \u001b[36m0:00:00\u001b[0m\n",
      "\u001b[2K   \u001b[90m━━━━━━━━━━━━━━━━━━━━━━━━━━━━━━━━━━━━━━━━\u001b[0m \u001b[32m127.9/127.9 MB\u001b[0m \u001b[31m7.3 MB/s\u001b[0m eta \u001b[36m0:00:00\u001b[0m\n",
      "\u001b[2K   \u001b[90m━━━━━━━━━━━━━━━━━━━━━━━━━━━━━━━━━━━━━━━━\u001b[0m \u001b[32m207.5/207.5 MB\u001b[0m \u001b[31m5.6 MB/s\u001b[0m eta \u001b[36m0:00:00\u001b[0m\n",
      "\u001b[2K   \u001b[90m━━━━━━━━━━━━━━━━━━━━━━━━━━━━━━━━━━━━━━━━\u001b[0m \u001b[32m21.1/21.1 MB\u001b[0m \u001b[31m45.8 MB/s\u001b[0m eta \u001b[36m0:00:00\u001b[0m\n",
      "\u001b[?25h"
     ]
    },
    {
     "name": "stderr",
     "output_type": "stream",
     "text": [
      "/usr/local/lib/python3.11/dist-packages/huggingface_hub/utils/_auth.py:94: UserWarning: \n",
      "The secret `HF_TOKEN` does not exist in your Colab secrets.\n",
      "To authenticate with the Hugging Face Hub, create a token in your settings tab (https://huggingface.co/settings/tokens), set it as secret in your Google Colab and restart your session.\n",
      "You will be able to reuse this secret in all of your notebooks.\n",
      "Please note that authentication is recommended but still optional to access public models or datasets.\n",
      "  warnings.warn(\n"
     ]
    },
    {
     "data": {
      "application/vnd.jupyter.widget-view+json": {
       "model_id": "5b44957842aa4ab4a28d448241eab4b6",
       "version_major": 2,
       "version_minor": 0
      },
      "text/plain": [
       "modules.json:   0%|          | 0.00/349 [00:00<?, ?B/s]"
      ]
     },
     "metadata": {},
     "output_type": "display_data"
    },
    {
     "data": {
      "application/vnd.jupyter.widget-view+json": {
       "model_id": "71de47c208a3465399a126b63617a14f",
       "version_major": 2,
       "version_minor": 0
      },
      "text/plain": [
       "config_sentence_transformers.json:   0%|          | 0.00/116 [00:00<?, ?B/s]"
      ]
     },
     "metadata": {},
     "output_type": "display_data"
    },
    {
     "data": {
      "application/vnd.jupyter.widget-view+json": {
       "model_id": "657fe279f8084899bc70684ba080f249",
       "version_major": 2,
       "version_minor": 0
      },
      "text/plain": [
       "README.md: 0.00B [00:00, ?B/s]"
      ]
     },
     "metadata": {},
     "output_type": "display_data"
    },
    {
     "data": {
      "application/vnd.jupyter.widget-view+json": {
       "model_id": "dca734a82dfe46719b9eb6b8410c4f3d",
       "version_major": 2,
       "version_minor": 0
      },
      "text/plain": [
       "sentence_bert_config.json:   0%|          | 0.00/53.0 [00:00<?, ?B/s]"
      ]
     },
     "metadata": {},
     "output_type": "display_data"
    },
    {
     "data": {
      "application/vnd.jupyter.widget-view+json": {
       "model_id": "5014e071c0a04f8586d21f917553367a",
       "version_major": 2,
       "version_minor": 0
      },
      "text/plain": [
       "config.json:   0%|          | 0.00/612 [00:00<?, ?B/s]"
      ]
     },
     "metadata": {},
     "output_type": "display_data"
    },
    {
     "data": {
      "application/vnd.jupyter.widget-view+json": {
       "model_id": "4706b9f413bb413088fa9c914036e455",
       "version_major": 2,
       "version_minor": 0
      },
      "text/plain": [
       "model.safetensors:   0%|          | 0.00/90.9M [00:00<?, ?B/s]"
      ]
     },
     "metadata": {},
     "output_type": "display_data"
    },
    {
     "data": {
      "application/vnd.jupyter.widget-view+json": {
       "model_id": "2b0be29aee2d4372a50045fdc07604d5",
       "version_major": 2,
       "version_minor": 0
      },
      "text/plain": [
       "tokenizer_config.json:   0%|          | 0.00/350 [00:00<?, ?B/s]"
      ]
     },
     "metadata": {},
     "output_type": "display_data"
    },
    {
     "data": {
      "application/vnd.jupyter.widget-view+json": {
       "model_id": "16f2fbe2fbb44585ba5a8b1e5f22b84f",
       "version_major": 2,
       "version_minor": 0
      },
      "text/plain": [
       "vocab.txt: 0.00B [00:00, ?B/s]"
      ]
     },
     "metadata": {},
     "output_type": "display_data"
    },
    {
     "data": {
      "application/vnd.jupyter.widget-view+json": {
       "model_id": "19f0f4e74a204f1b8a0650d6cd84b4d2",
       "version_major": 2,
       "version_minor": 0
      },
      "text/plain": [
       "tokenizer.json: 0.00B [00:00, ?B/s]"
      ]
     },
     "metadata": {},
     "output_type": "display_data"
    },
    {
     "data": {
      "application/vnd.jupyter.widget-view+json": {
       "model_id": "7ec5416ec96d496d86e0b2e67a46f7b9",
       "version_major": 2,
       "version_minor": 0
      },
      "text/plain": [
       "special_tokens_map.json:   0%|          | 0.00/112 [00:00<?, ?B/s]"
      ]
     },
     "metadata": {},
     "output_type": "display_data"
    },
    {
     "data": {
      "application/vnd.jupyter.widget-view+json": {
       "model_id": "70103eec1d2243baaea7686706920875",
       "version_major": 2,
       "version_minor": 0
      },
      "text/plain": [
       "config.json:   0%|          | 0.00/190 [00:00<?, ?B/s]"
      ]
     },
     "metadata": {},
     "output_type": "display_data"
    },
    {
     "name": "stdout",
     "output_type": "stream",
     "text": [
      "Query: Apple and technology\n",
      "\n",
      "Top Matches:\n",
      "- Apple is looking at buying a startup in the UK.\n",
      "- A fruit shop sells fresh apples and bananas.\n"
     ]
    }
   ],
   "source": [
    "# Install required libraries\n",
    "!pip install -q sentence-transformers faiss-cpu\n",
    "\n",
    "from sentence_transformers import SentenceTransformer\n",
    "import faiss\n",
    "import numpy as np\n",
    "\n",
    "# Load a pre-trained sentence embedding model\n",
    "model = SentenceTransformer('all-MiniLM-L6-v2')\n",
    "\n",
    "# Sample text corpus\n",
    "sentences = [\n",
    "    \"Apple is looking at buying a startup in the UK.\",\n",
    "    \"A fruit shop sells fresh apples and bananas.\",\n",
    "    \"Microsoft announced new updates to Windows.\",\n",
    "    \"He ate a red apple with peanut butter.\",\n",
    "    \"Google launches new AI tools in Gmail.\"\n",
    "]\n",
    "\n",
    "# Convert sentences to embeddings\n",
    "embeddings = model.encode(sentences)\n",
    "\n",
    "# Create FAISS index\n",
    "dimension = embeddings.shape[1]\n",
    "index = faiss.IndexFlatL2(dimension)  # L2 distance (Euclidean)\n",
    "\n",
    "# Add the embeddings to the index\n",
    "index.add(np.array(embeddings))\n",
    "\n",
    "# Query sentence\n",
    "query = \"Apple and technology\"\n",
    "query_embedding = model.encode([query])\n",
    "\n",
    "# Search for top 2 similar sentences\n",
    "distances, indices = index.search(query_embedding, k=2)\n",
    "\n",
    "# Display results\n",
    "print(\"Query:\", query)\n",
    "print(\"\\nTop Matches:\")\n",
    "for idx in indices[0]:\n",
    "    print(\"-\", sentences[idx])\n"
   ]
  }
 ],
 "metadata": {
  "colab": {
   "authorship_tag": "ABX9TyN+OdSXdx1LqgJEI6kMGuzV",
   "provenance": []
  },
  "kernelspec": {
   "display_name": "Python 3",
   "name": "python3"
  },
  "language_info": {
   "name": "python"
  }
 },
 "nbformat": 4,
 "nbformat_minor": 0
}
