{
  "nbformat": 4,
  "nbformat_minor": 0,
  "metadata": {
    "colab": {
      "provenance": [],
      "authorship_tag": "ABX9TyO9FujwEYcfVZLVhbtUJ0sR",
      "include_colab_link": true
    },
    "kernelspec": {
      "name": "python3",
      "display_name": "Python 3"
    },
    "language_info": {
      "name": "python"
    }
  },
  "cells": [
    {
      "cell_type": "markdown",
      "metadata": {
        "id": "view-in-github",
        "colab_type": "text"
      },
      "source": [
        "<a href=\"https://colab.research.google.com/github/MaheswaraReddyDS/calculator/blob/main/calculator.ipynb\" target=\"_parent\"><img src=\"https://colab.research.google.com/assets/colab-badge.svg\" alt=\"Open In Colab\"/></a>"
      ]
    },
    {
      "cell_type": "code",
      "execution_count": 1,
      "metadata": {
        "colab": {
          "base_uri": "https://localhost:8080/"
        },
        "id": "L12_JHMlBsFH",
        "outputId": "9c78d84e-cf43-4abf-f2a1-29d0ff6ba53c"
      },
      "outputs": [
        {
          "output_type": "stream",
          "name": "stdout",
          "text": [
            "You're an adult!\n",
            "Loop: 0\n",
            "Loop: 1\n",
            "Loop: 2\n",
            "Hello, Raj!\n"
          ]
        }
      ],
      "source": [
        "# Variables and Data Types\n",
        "name = \"Raj\"\n",
        "age = 25\n",
        "height = 5.7\n",
        "is_student = True\n",
        "\n",
        "# If Condition\n",
        "if age > 18:\n",
        "    print(\"You're an adult!\")\n",
        "\n",
        "# Loop\n",
        "for i in range(3):\n",
        "    print(\"Loop:\", i)\n",
        "\n",
        "# Function\n",
        "def greet(name):\n",
        "    return f\"Hello, {name}!\"\n",
        "\n",
        "print(greet(\"Raj\"))\n"
      ]
    },
    {
      "cell_type": "code",
      "source": [
        "# Creating a Calculator class\n",
        "class Calculator:\n",
        "    def add(self, a, b):\n",
        "        return a + b\n",
        "\n",
        "    def subtract(self, a, b):\n",
        "        return a - b\n",
        "\n",
        "    def multiply(self, a, b):\n",
        "        return a * b\n",
        "\n",
        "    def divide(self, a, b):\n",
        "        if b == 0:\n",
        "            return \"Cannot divide by zero\"\n",
        "        return a / b\n",
        "\n",
        "# Using the calculator\n",
        "calc = Calculator()\n",
        "print(\"Add: \", calc.add(10, 5))\n",
        "print(\"Subtract: \", calc.subtract(10, 5))\n",
        "print(\"Multiply: \", calc.multiply(10, 5))\n",
        "print(\"Divide: \", calc.divide(10, 5))\n"
      ],
      "metadata": {
        "colab": {
          "base_uri": "https://localhost:8080/"
        },
        "id": "1xj46bZhDmKi",
        "outputId": "0d1e20a4-a247-4348-8e88-e7b76a21e253"
      },
      "execution_count": 2,
      "outputs": [
        {
          "output_type": "stream",
          "name": "stdout",
          "text": [
            "Add:  15\n",
            "Subtract:  5\n",
            "Multiply:  50\n",
            "Divide:  2.0\n"
          ]
        }
      ]
    }
  ]
}