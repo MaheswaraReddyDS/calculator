{
  "nbformat": 4,
  "nbformat_minor": 0,
  "metadata": {
    "colab": {
      "provenance": [],
      "authorship_tag": "ABX9TyNs7oeoN4x8A876uJd3rP6l",
      "include_colab_link": true
    },
    "kernelspec": {
      "name": "python3",
      "display_name": "Python 3"
    },
    "language_info": {
      "name": "python"
    }
  },
  "cells": [
    {
      "cell_type": "markdown",
      "metadata": {
        "id": "view-in-github",
        "colab_type": "text"
      },
      "source": [
        "<a href=\"https://colab.research.google.com/github/MaheswaraReddyDS/calculator/blob/main/mlflow_intro.ipynb\" target=\"_parent\"><img src=\"https://colab.research.google.com/assets/colab-badge.svg\" alt=\"Open In Colab\"/></a>"
      ]
    },
    {
      "cell_type": "code",
      "execution_count": 11,
      "metadata": {
        "colab": {
          "base_uri": "https://localhost:8080/"
        },
        "id": "OvS1XHg5NkfR",
        "outputId": "06a98395-e4d0-4b9b-c653-3a44be131b58"
      },
      "outputs": [
        {
          "output_type": "stream",
          "name": "stderr",
          "text": [
            "2025/06/19 03:55:47 WARNING mlflow.models.model: `artifact_path` is deprecated. Please use `name` instead.\n",
            "2025/06/19 03:55:48 WARNING mlflow.models.signature: Failed to infer the model signature from the input example. Reason: MlflowException(\"Failed to enforce schema of data '[[5.0, 3.6, 1.4, 0.2]]' with schema '[Array(double) (required)]'. Error: Expected data to be list or numpy array, got float\"). To see the full traceback, set the logging level to DEBUG via `logging.getLogger(\"mlflow\").setLevel(logging.DEBUG)`.\n"
          ]
        },
        {
          "output_type": "stream",
          "name": "stdout",
          "text": [
            "Logged model with accuracy: 1.0\n",
            "Logged model with accuracy: 1.0\n"
          ]
        }
      ],
      "source": [
        "# Install MLflow (only needed in Colab)\n",
        "!pip install -q mlflow\n",
        "\n",
        "import mlflow\n",
        "import mlflow.sklearn\n",
        "from sklearn.ensemble import RandomForestClassifier\n",
        "from sklearn.datasets import load_iris\n",
        "from sklearn.model_selection import train_test_split\n",
        "from sklearn.metrics import accuracy_score\n",
        "\n",
        "# Load data\n",
        "iris = load_iris()\n",
        "X_train, X_test, y_train, y_test = train_test_split(iris.data, iris.target, random_state=42)\n",
        "\n",
        "# Start MLflow tracking\n",
        "with mlflow.start_run():\n",
        "    # Train a model\n",
        "    model = RandomForestClassifier(n_estimators=100, max_depth=2, random_state=42)\n",
        "    model.fit(X_train, y_train)\n",
        "\n",
        "    # Predict and evaluate\n",
        "    predictions = model.predict(X_test)\n",
        "    accuracy = accuracy_score(y_test, predictions)\n",
        "\n",
        "    # Log model and metrics\n",
        "    mlflow.log_param(\"n_estimators\", 100)\n",
        "    mlflow.log_param(\"max_depth\", 2)\n",
        "    mlflow.log_metric(\"accuracy\", accuracy)\n",
        "\n",
        "# Install MLflow (only needed in Colab)\n",
        "!pip install -q mlflow\n",
        "\n",
        "import mlflow\n",
        "import mlflow.sklearn\n",
        "from sklearn.ensemble import RandomForestClassifier\n",
        "from sklearn.datasets import load_iris\n",
        "from sklearn.model_selection import train_test_split\n",
        "from sklearn.metrics import accuracy_score\n",
        "\n",
        "# Load data\n",
        "iris = load_iris()\n",
        "X_train, X_test, y_train, y_test = train_test_split(iris.data, iris.target, random_state=42)\n",
        "\n",
        "# Start MLflow tracking\n",
        "with mlflow.start_run():\n",
        "    # Train a model\n",
        "    model = RandomForestClassifier(n_estimators=100, max_depth=2, random_state=42)\n",
        "    model.fit(X_train, y_train)\n",
        "\n",
        "    # Predict and evaluate\n",
        "    predictions = model.predict(X_test)\n",
        "    accuracy = accuracy_score(y_test, predictions)\n",
        "\n",
        "    # Log model and metrics\n",
        "    mlflow.log_param(\"n_estimators\", 100)\n",
        "    mlflow.log_param(\"max_depth\", 2)\n",
        "    mlflow.log_metric(\"accuracy\", accuracy)\n",
        "\n",
        "    # Log the model itself\n",
        "    input_example = [X_train[0].tolist()]  # Just one example input row\n",
        "    mlflow.sklearn.log_model(sk_model=model, artifact_path=\"random_forest_model\", input_example=input_example)\n",
        "\n",
        "\n",
        "    print(\"Logged model with accuracy:\", accuracy)\n",
        "    print(\"Logged model with accuracy:\", accuracy)\n"
      ]
    }
  ]
}